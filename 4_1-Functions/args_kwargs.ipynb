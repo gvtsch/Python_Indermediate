{
 "cells": [
  {
   "cell_type": "code",
   "execution_count": 1,
   "metadata": {},
   "outputs": [],
   "source": [
    "from typing import Any, Optional"
   ]
  },
  {
   "cell_type": "code",
   "execution_count": 4,
   "metadata": {},
   "outputs": [],
   "source": [
    "def my_function(\n",
    "        a: int,\n",
    "        b: int,\n",
    "        c: int = 10,\n",
    "        d: int = 12,\n",
    "        e: int = 13\n",
    ") -> None:\n",
    "    print(f\"a: {a}, b: {b}, c: {c}, d: {d}, e: {e}\")"
   ]
  },
  {
   "cell_type": "code",
   "execution_count": 5,
   "metadata": {},
   "outputs": [
    {
     "name": "stdout",
     "output_type": "stream",
     "text": [
      "a: 1, b: 2, c: 10, d: 12, e: 13\n"
     ]
    }
   ],
   "source": [
    "my_function(1, 2)"
   ]
  },
  {
   "cell_type": "markdown",
   "metadata": {},
   "source": [
    "# Positional arguments\n",
    "*args: variable number of pos. arguments"
   ]
  },
  {
   "cell_type": "code",
   "execution_count": 6,
   "metadata": {},
   "outputs": [],
   "source": [
    "def my_function2(a: Any, b: Any, *args: Any) -> None:\n",
    "    print(*args, type(args))\n",
    "    print(f\"a: {a}, b: {b}, args: {args}\")"
   ]
  },
  {
   "cell_type": "code",
   "execution_count": 12,
   "metadata": {},
   "outputs": [
    {
     "name": "stdout",
     "output_type": "stream",
     "text": [
      "3 4 <class 'tuple'>\n",
      "a: 1, b: 2, args: (3, 4)\n",
      "3 <class 'tuple'>\n",
      "a: 1, b: 2, args: (3,)\n",
      "<class 'tuple'>\n",
      "a: 1, b: 2, args: ()\n"
     ]
    }
   ],
   "source": [
    "my_function2(1,2,3,4)\n",
    "my_function2(1,2,3)\n",
    "my_function2(1,2)\n",
    "# my_function2(1) would not work, since at least 2 args are required"
   ]
  },
  {
   "cell_type": "code",
   "execution_count": 10,
   "metadata": {},
   "outputs": [],
   "source": [
    "def my_function3(*args: Any) -> None:\n",
    "    print(*args, type(Any))\n",
    "    print(f\"args: {args}\")"
   ]
  },
  {
   "cell_type": "code",
   "execution_count": 11,
   "metadata": {},
   "outputs": [
    {
     "name": "stdout",
     "output_type": "stream",
     "text": [
      "1 2 3 4 <class 'typing._SpecialForm'>\n",
      "args: (1, 2, 3, 4)\n",
      "<class 'typing._SpecialForm'>\n",
      "args: ()\n"
     ]
    }
   ],
   "source": [
    "my_function3(1, 2, 3, 4)\n",
    "my_function3()"
   ]
  },
  {
   "cell_type": "markdown",
   "metadata": {},
   "source": [
    "## NORMAL ARGS; *ARGS; DEFAULT ARGS"
   ]
  },
  {
   "cell_type": "code",
   "execution_count": 13,
   "metadata": {},
   "outputs": [],
   "source": [
    "def my_function4(a: Any, *args: Any, b: Optional[Any] = None) -> None:\n",
    "    print(*args, type(args))\n",
    "    print(f\"a: {a}, b: {b}, args: {args}\")"
   ]
  },
  {
   "cell_type": "code",
   "execution_count": 14,
   "metadata": {},
   "outputs": [
    {
     "name": "stdout",
     "output_type": "stream",
     "text": [
      "3 4 <class 'tuple'>\n",
      "a: 1, b: 2, args: (3, 4)\n"
     ]
    }
   ],
   "source": [
    "my_function4(1,3,4,b=2)"
   ]
  },
  {
   "cell_type": "markdown",
   "metadata": {},
   "source": [
    "# Keyword arguments\n",
    "\n",
    "- Normal Args; *Args; Default Args; **Kwargs\n",
    "- *Args: Tuple\n",
    "- **Kwargs: Dict"
   ]
  },
  {
   "cell_type": "code",
   "execution_count": 15,
   "metadata": {},
   "outputs": [],
   "source": [
    "def my_function(\n",
    "        a: Any,\n",
    "        *args: Any,\n",
    "        x: int,\n",
    "        y: int = 3,\n",
    "        z: int = 4,\n",
    "        **kwargs: Any\n",
    ") -> None:\n",
    "    print(args, type(args))\n",
    "    print(kwargs, type(kwargs))\n",
    "    print(f\"a: {a}, x: {x}, y: {y}, z: {z}\\nkwargs: {kwargs}\")"
   ]
  },
  {
   "cell_type": "code",
   "execution_count": 16,
   "metadata": {},
   "outputs": [
    {
     "name": "stdout",
     "output_type": "stream",
     "text": [
      "(3, 4) <class 'tuple'>\n",
      "{'b': False, 'c': 30, 'd': 40.5} <class 'dict'>\n",
      "a: 1, x: 13.37, y: 3, z: 4\n",
      "kwargs: {'b': False, 'c': 30, 'd': 40.5}\n"
     ]
    }
   ],
   "source": [
    "my_function(1, 3, 4, x=13.37, b=False, c=30, d=40.5)"
   ]
  },
  {
   "cell_type": "code",
   "execution_count": 17,
   "metadata": {},
   "outputs": [],
   "source": [
    "def my_function(*args: Any, **kwargs: Any) -> None:\n",
    "    print(f\"args: {args}\\nkwargs: {kwargs}\")"
   ]
  },
  {
   "cell_type": "code",
   "execution_count": 18,
   "metadata": {},
   "outputs": [
    {
     "name": "stdout",
     "output_type": "stream",
     "text": [
      "args: (1, 3, 4)\n",
      "kwargs: {'x': 13.37, 'b': False, 'c': 30, 'd': 40.5}\n"
     ]
    }
   ],
   "source": [
    "my_function(1, 3, 4, x=13.37, b=False, c=30, d=40.5)"
   ]
  }
 ],
 "metadata": {
  "kernelspec": {
   "display_name": "tf_GPU",
   "language": "python",
   "name": "python3"
  },
  "language_info": {
   "codemirror_mode": {
    "name": "ipython",
    "version": 3
   },
   "file_extension": ".py",
   "mimetype": "text/x-python",
   "name": "python",
   "nbconvert_exporter": "python",
   "pygments_lexer": "ipython3",
   "version": "3.10.9"
  }
 },
 "nbformat": 4,
 "nbformat_minor": 2
}
