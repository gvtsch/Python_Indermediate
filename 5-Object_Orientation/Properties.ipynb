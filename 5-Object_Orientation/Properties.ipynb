{
 "cells": [
  {
   "cell_type": "code",
   "execution_count": 1,
   "metadata": {},
   "outputs": [],
   "source": [
    "from functools import cached_property"
   ]
  },
  {
   "cell_type": "code",
   "execution_count": 2,
   "metadata": {},
   "outputs": [],
   "source": [
    "class User:\n",
    "    def __init__(self, name, user_id):\n",
    "        self._name = name\n",
    "        self._user_id = user_id\n",
    "        \n",
    "    def __repr__(self):\n",
    "        return f\"{self._name}, {self._user_id}\"\n",
    "    \n",
    "    def get_name(self):\n",
    "        return self._name\n",
    "    \n",
    "    def set_name(self, new_name):\n",
    "        self._name = new_name\n",
    "        \n",
    "    def del_name(self):\n",
    "        self._name = \"\""
   ]
  },
  {
   "cell_type": "code",
   "execution_count": 3,
   "metadata": {},
   "outputs": [],
   "source": [
    "class User:\n",
    "    def __init__(self, name, user_id):\n",
    "        self._name = name\n",
    "        self._user_id = user_id\n",
    "        \n",
    "    def __repr__(self):\n",
    "        return f\"{self._name}, {self._user_id}\"\n",
    "    \n",
    "    @property\n",
    "    def name(self):\n",
    "        return self._name\n",
    "    \n",
    "    @name.setter\n",
    "    def name(self, new_name):\n",
    "        self._name = new_name\n",
    "        \n",
    "    @name.deleter\n",
    "    def name(self):\n",
    "        self._name = \"\""
   ]
  },
  {
   "cell_type": "code",
   "execution_count": null,
   "metadata": {},
   "outputs": [],
   "source": [
    "u1 = User(\"Christoph\",\n",
    "          1234)\n"
   ]
  }
 ],
 "metadata": {
  "kernelspec": {
   "display_name": "Python 3.10.9 ('base')",
   "language": "python",
   "name": "python3"
  },
  "language_info": {
   "codemirror_mode": {
    "name": "ipython",
    "version": 3
   },
   "file_extension": ".py",
   "mimetype": "text/x-python",
   "name": "python",
   "nbconvert_exporter": "python",
   "pygments_lexer": "ipython3",
   "version": "3.10.9"
  },
  "orig_nbformat": 4,
  "vscode": {
   "interpreter": {
    "hash": "3ea335dcfc86584f099464548b0ed0058477d8754fe3631a3b3425dfe4c718dc"
   }
  }
 },
 "nbformat": 4,
 "nbformat_minor": 2
}
