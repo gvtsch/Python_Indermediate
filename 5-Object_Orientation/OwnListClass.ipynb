{
 "cells": [
  {
   "cell_type": "code",
   "execution_count": 1,
   "metadata": {},
   "outputs": [],
   "source": [
    "from collections.abc import MutableSequence"
   ]
  },
  {
   "cell_type": "code",
   "execution_count": 2,
   "metadata": {},
   "outputs": [],
   "source": [
    "class MyOwnList(MutableSequence):\n",
    "    def __init__(self, values=None):\n",
    "        super().__init__()\n",
    "        if values:\n",
    "            self._values = values\n",
    "        else:\n",
    "            self._values = []"
   ]
  },
  {
   "cell_type": "code",
   "execution_count": 3,
   "metadata": {},
   "outputs": [
    {
     "name": "stdout",
     "output_type": "stream",
     "text": [
      "Can't instantiate abstract class MyOwnList with abstract methods __delitem__, __getitem__, __len__, __setitem__, insert\n"
     ]
    }
   ],
   "source": [
    "try:\n",
    "    l = MyOwnList()\n",
    "except TypeError as e:\n",
    "    print(e)"
   ]
  },
  {
   "cell_type": "code",
   "execution_count": 7,
   "metadata": {},
   "outputs": [],
   "source": [
    "class MyOwnList(MutableSequence):\n",
    "    def __init__(self, values=None):\n",
    "        super().__init__()\n",
    "        if values:\n",
    "            self._values = values\n",
    "        else:\n",
    "            self._values = []\n",
    "\n",
    "    def __str__(self):\n",
    "        return str(self._values)\n",
    "\n",
    "    def __len__(self):\n",
    "        return len(self._values)\n",
    "\n",
    "    def __getitem__(self, idx):\n",
    "        return self._values[idx]\n",
    "\n",
    "    def __setitem__(self, idx, val):\n",
    "        self._values[idx] = val\n",
    "\n",
    "    def __delitem__(self, idx):\n",
    "        del self._values[idx]\n",
    "\n",
    "    def insert(self, idx, val):\n",
    "        self._values.insert(idx, val)\n",
    "\n",
    "    def append(self, val):\n",
    "        self._values.append(val)\n"
   ]
  },
  {
   "cell_type": "code",
   "execution_count": 8,
   "metadata": {},
   "outputs": [
    {
     "name": "stdout",
     "output_type": "stream",
     "text": [
      "[1, 2, 3]\n",
      "3\n"
     ]
    }
   ],
   "source": [
    "my_list = MyOwnList([1, 2, 3]) # init\n",
    "print(my_list) # getitem\n",
    "print(len(my_list)) # len"
   ]
  },
  {
   "cell_type": "code",
   "execution_count": 9,
   "metadata": {},
   "outputs": [
    {
     "name": "stdout",
     "output_type": "stream",
     "text": [
      "1\n"
     ]
    }
   ],
   "source": [
    "print(my_list[0]) # getitem\n",
    "my_list[0] = \"Hello\" # setitem"
   ]
  }
 ],
 "metadata": {
  "kernelspec": {
   "display_name": "tf_GPU",
   "language": "python",
   "name": "python3"
  },
  "language_info": {
   "codemirror_mode": {
    "name": "ipython",
    "version": 3
   },
   "file_extension": ".py",
   "mimetype": "text/x-python",
   "name": "python",
   "nbconvert_exporter": "python",
   "pygments_lexer": "ipython3",
   "version": "3.10.9"
  }
 },
 "nbformat": 4,
 "nbformat_minor": 2
}
