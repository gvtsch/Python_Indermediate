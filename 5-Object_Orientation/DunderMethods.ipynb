{
 "cells": [
  {
   "cell_type": "markdown",
   "metadata": {},
   "source": [
    "# Basic Customizations\n",
    "- new(self) returns a new object (an instance of that class)\n",
    "- init(self) is called when the object is initialized\n",
    "- del(self) for del() function. Called when the object is to be destroyed\n",
    "- repr(self) for repr() function. Return a byte object which is the byte string representation.\n",
    "- format(self) for format() function. Evaluate formatted string literals.\n",
    "\n",
    "# Comparison Operators\n",
    "- lt(self, anotherObj) for < operator\n",
    "- le(self, anotherObj) for <= operator\n",
    "- eq(self, anotherObj) for == operator\n",
    "- ne(self, anotherObj) for != operator\n",
    "- gt(self, anotherObj) for > operator\n",
    "- ge(self, anotherObj) for >= operator\n",
    "\n",
    "# Arithmetic Operators\n",
    "- add(self, anotherObj) for + operator\n",
    "- sub(self, anotherObj) for - operation on object\n",
    "- mul(self, anotherObj) for * operation on object\n",
    "- matmul(self, anotherObj) for @ operator (numpy matrix multiplication)\n",
    "- truediv(self, anotherObj) for simple / division operation on object\n",
    "- floordiv(self, anotherObj) for // floor division operation on object\n",
    "\n",
    "# Type Conversion\n",
    "- abs(self) make support for abs() function\n",
    "- int(self) support for int() function. Returns the integer value.\n",
    "- float(self) for float() function support. Returns float equivalent.\n",
    "- complex(self) for complex() function support. Returns complex values.\n",
    "- round(self, nDigits) for round() function\n",
    "- trunc(self) for trunc() function of math module\n",
    "- ceil(self) for ceil() function of math module\n",
    "- floor(self) for floor() function of math module.\n",
    "\n",
    "# Emulating Container Types\n",
    "- len(self) for len() function. Returns the total number in any container\n",
    "- getitem(self, key) to support index lookup\n",
    "- setitem(self, key, value) to support index assignment\n",
    "- delitem(self, key) for del() function. Delete the value at the index\n",
    "- iter(self) returns an iterator when required that iterates all values in the container\n",
    "\n",
    "# Summary\n",
    "Dunder Methods makes our class compatible with inbuilt functions like abs(), len(), str() and many more.\n"
   ]
  }
 ],
 "metadata": {
  "kernelspec": {
   "display_name": "Python 3.11.5 ('DRL_PracticeBook')",
   "language": "python",
   "name": "python3"
  },
  "language_info": {
   "name": "python",
   "version": "3.11.5"
  },
  "orig_nbformat": 4,
  "vscode": {
   "interpreter": {
    "hash": "a0255086c2e6ee30c3c5478e95bd942156d3d67958fc93b9f4a13040f0409697"
   }
  }
 },
 "nbformat": 4,
 "nbformat_minor": 2
}
