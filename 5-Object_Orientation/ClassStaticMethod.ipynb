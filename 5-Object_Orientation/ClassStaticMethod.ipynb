{
 "cells": [
  {
   "cell_type": "markdown",
   "metadata": {},
   "source": [
    "# Static Method\n",
    "Can only modify the state of the class, not a single instance.\n",
    "# Static Method \n",
    "Can neither modify the object state of an instance nor the class state itself. \\\n",
    "It rather is a way to namespace your methods."
   ]
  },
  {
   "cell_type": "code",
   "execution_count": 10,
   "metadata": {},
   "outputs": [],
   "source": [
    "from time import localtime"
   ]
  },
  {
   "cell_type": "code",
   "execution_count": 11,
   "metadata": {},
   "outputs": [],
   "source": [
    "class Date:\n",
    "    def __init__(self, year: int, month: int, day: int) -> None:\n",
    "        self.year = year\n",
    "        self.month = month\n",
    "        self.day = day\n",
    "        \n",
    "    def __repr__(self) -> str:\n",
    "        return f\"{self.day}.{self.month}.{self.year}\"\n",
    "    \n",
    "    def print_date(self) -> None:\n",
    "        print(self)"
   ]
  },
  {
   "cell_type": "code",
   "execution_count": 12,
   "metadata": {},
   "outputs": [],
   "source": [
    "def get_todays_date(cls) -> Date:\n",
    "    date = cls.__new__(cls)\n",
    "    time = localtime()\n",
    "    date.year = time.tm_year\n",
    "    date.month = time.tm_mon\n",
    "    date.day = time.tm_mday\n",
    "    return date"
   ]
  },
  {
   "cell_type": "code",
   "execution_count": 13,
   "metadata": {},
   "outputs": [],
   "source": [
    "def is_todays_date(date: Date) -> bool:\n",
    "    time = localtime()\n",
    "    if date.year == time.tm_year and \\\n",
    "        date.month == time.tm_mon and \\\n",
    "        date.day == time.tm_mday:\n",
    "        return True\n",
    "    else:\n",
    "        return False"
   ]
  },
  {
   "cell_type": "code",
   "execution_count": 30,
   "metadata": {},
   "outputs": [],
   "source": [
    "class Date:\n",
    "    def __init__(self, year: int, month: int, day: int) -> None:\n",
    "        self.year = year\n",
    "        self.month = month\n",
    "        self.day = day\n",
    "        \n",
    "    def __repr__(self) -> str:\n",
    "        return f\"{self.day}.{self.month}.{self.year}\"\n",
    "    \n",
    "    def print_date(self) -> None:\n",
    "        print(self)\n",
    "        \n",
    "    @classmethod\n",
    "    def get_todays_date(cls) -> Date:\n",
    "        date = cls.__new__(cls)\n",
    "        time = localtime()\n",
    "        date.year = time.tm_year\n",
    "        date.month = time.tm_mon\n",
    "        date.day = time.tm_mday\n",
    "        return date\n",
    "    \n",
    "    @staticmethod\n",
    "    def is_todays_date(date: Date) -> bool:\n",
    "        time = localtime()\n",
    "        if (date.year == time.tm_year and\n",
    "            date.month == time.tm_mon and\n",
    "            date.day == time.tm_mday):\n",
    "            return True\n",
    "        else:\n",
    "            return False\n",
    "    "
   ]
  },
  {
   "cell_type": "markdown",
   "metadata": {},
   "source": [
    "### Method"
   ]
  },
  {
   "cell_type": "code",
   "execution_count": 31,
   "metadata": {},
   "outputs": [
    {
     "name": "stdout",
     "output_type": "stream",
     "text": [
      "1.1.2008\n"
     ]
    }
   ],
   "source": [
    "date1 = Date(2008, 1, 1)\n",
    "date1.print_date()"
   ]
  },
  {
   "cell_type": "markdown",
   "metadata": {},
   "source": [
    "### Classmethod"
   ]
  },
  {
   "cell_type": "code",
   "execution_count": 32,
   "metadata": {},
   "outputs": [
    {
     "name": "stdout",
     "output_type": "stream",
     "text": [
      "24.10.2023\n"
     ]
    }
   ],
   "source": [
    "date2 = Date.get_todays_date()\n",
    "date2.print_date()"
   ]
  },
  {
   "cell_type": "markdown",
   "metadata": {},
   "source": [
    "In Python, Classmethods und Staticmethods sind zwei Typen von Methoden, die in Klassen verwendet werden können.\n",
    "## Classmethods\n",
    "Classmethods sind Methoden, die auf die Klasse selbst angewendet werden und nicht auf ein Instanzobjekt. Classmethods werden mit dem classmethod-Decorator dekoriert und können mit dem Klassenname und einem Punkt angerufen werden.\n",
    "\n",
    "## Staticmethods\n",
    "Staticmethods sind Methoden, die auf die Klasse selbst angewendet werden und nicht auf ein Instanzobjekt. Staticmethods werden mit dem staticmethod-Decorator dekoriert und können mit dem Klassenname und einem Punkt angerufen werden.\n",
    "\n",
    "\n",
    "Classmethods und Staticmethods sind ähnlich, aber sie haben unterschiedliche Verwendungszwecke. Classmethods werden verwendet, um auf die Klasse selbst zuzugreifen und auf die Klasse zu operieren. Staticmethods werden verwendet, um auf die Klasse selbst zuzugreifen und auf die Klasse zu manipulieren.\n",
    "\n",
    "Classmethods und Staticmethods sind nicht auf ein Instanzobjekt angewendet und können von allen Instanzobjekten der Klasse aufgerufen werden."
   ]
  },
  {
   "cell_type": "markdown",
   "metadata": {},
   "source": []
  }
 ],
 "metadata": {
  "kernelspec": {
   "display_name": "Python 3.10.9 ('base')",
   "language": "python",
   "name": "python3"
  },
  "language_info": {
   "codemirror_mode": {
    "name": "ipython",
    "version": 3
   },
   "file_extension": ".py",
   "mimetype": "text/x-python",
   "name": "python",
   "nbconvert_exporter": "python",
   "pygments_lexer": "ipython3",
   "version": "3.10.9"
  },
  "orig_nbformat": 4,
  "vscode": {
   "interpreter": {
    "hash": "3ea335dcfc86584f099464548b0ed0058477d8754fe3631a3b3425dfe4c718dc"
   }
  }
 },
 "nbformat": 4,
 "nbformat_minor": 2
}
