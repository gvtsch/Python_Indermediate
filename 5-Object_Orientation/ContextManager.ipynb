{
 "cells": [
  {
   "cell_type": "markdown",
   "metadata": {},
   "source": [
    "# Context Manager\n",
    "\n",
    "with ContextManager() as var_name:\n",
    "    pass # do sth\n",
    "\n",
    "At entering the with-context, the object gets created (init and enter).\n",
    "At exiting the with-context, the object calls the exit method."
   ]
  },
  {
   "cell_type": "code",
   "execution_count": 3,
   "metadata": {},
   "outputs": [],
   "source": [
    "class NameHandler:\n",
    "    def __init__(self, name):\n",
    "        self.name = name\n",
    "        print(f\"Creating {self.name}\")\n",
    "\n",
    "    def __enter__(self):\n",
    "        print(f\"Entering with: {self.name}\")\n",
    "        if not isinstance(self.name, str):\n",
    "            raise TypeError\n",
    "        return self\n",
    "    \n",
    "    def __exit__(self, exception_type, exception_value, traceback):\n",
    "        print(f\"Exiting with: {self.name}\")"
   ]
  },
  {
   "cell_type": "code",
   "execution_count": 4,
   "metadata": {},
   "outputs": [
    {
     "name": "stdout",
     "output_type": "stream",
     "text": [
      "Creating Christoph\n",
      "Entering with: Christoph\n",
      "Exiting with: 2\n"
     ]
    }
   ],
   "source": [
    "with NameHandler(\"Christoph\") as m: # init\n",
    "    m.name = 2 # enter\n",
    "    # exit"
   ]
  }
 ],
 "metadata": {
  "kernelspec": {
   "display_name": "tf_GPU",
   "language": "python",
   "name": "python3"
  },
  "language_info": {
   "codemirror_mode": {
    "name": "ipython",
    "version": 3
   },
   "file_extension": ".py",
   "mimetype": "text/x-python",
   "name": "python",
   "nbconvert_exporter": "python",
   "pygments_lexer": "ipython3",
   "version": "3.10.9"
  }
 },
 "nbformat": 4,
 "nbformat_minor": 2
}
