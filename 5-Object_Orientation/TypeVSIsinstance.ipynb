{
 "cells": [
  {
   "cell_type": "code",
   "execution_count": 2,
   "metadata": {},
   "outputs": [],
   "source": [
    "class A:\n",
    "    def __init__(self):\n",
    "        print(\"Init A called!\")\n",
    "        self.a = 1\n",
    "        \n",
    "class B(A): \n",
    "    def __init__(self):\n",
    "        super().__init__()\n",
    "        print(\"Init B called!\")\n",
    "        self.b = self.a * 2\n",
    "        \n",
    "class C(A):\n",
    "    def __init__(self):\n",
    "        super().__init__()\n",
    "        print(\"Init C called!\")\n",
    "        self.c = self.a / 2\n",
    "        \n",
    "class D(B, C):\n",
    "    def __init__(self):\n",
    "        super().__init__()\n",
    "        print(\"Init D called!\")\n",
    "        self.d = self.b + self.c"
   ]
  },
  {
   "cell_type": "code",
   "execution_count": 3,
   "metadata": {},
   "outputs": [
    {
     "name": "stdout",
     "output_type": "stream",
     "text": [
      "Init A called!\n",
      "Init A called!\n",
      "Init B called!\n"
     ]
    }
   ],
   "source": [
    "a = A()\n",
    "b = B()"
   ]
  },
  {
   "cell_type": "code",
   "execution_count": 5,
   "metadata": {},
   "outputs": [
    {
     "data": {
      "text/plain": [
       "__main__.B"
      ]
     },
     "execution_count": 5,
     "metadata": {},
     "output_type": "execute_result"
    }
   ],
   "source": [
    "type(b)"
   ]
  },
  {
   "cell_type": "code",
   "execution_count": 7,
   "metadata": {},
   "outputs": [
    {
     "name": "stdout",
     "output_type": "stream",
     "text": [
      "equal\n"
     ]
    }
   ],
   "source": [
    "if type(b) == B:\n",
    "    print(\"equal\")\n",
    "else:\n",
    "    print(\"not equal\")"
   ]
  },
  {
   "cell_type": "code",
   "execution_count": 6,
   "metadata": {},
   "outputs": [
    {
     "name": "stdout",
     "output_type": "stream",
     "text": [
      "not equal\n"
     ]
    }
   ],
   "source": [
    "if type(b) == A:\n",
    "    print(\"equal\")\n",
    "else:\n",
    "    print(\"not equal\")"
   ]
  },
  {
   "cell_type": "code",
   "execution_count": 8,
   "metadata": {},
   "outputs": [
    {
     "name": "stdout",
     "output_type": "stream",
     "text": [
      "is instance\n"
     ]
    }
   ],
   "source": [
    "if isinstance(b, B):\n",
    "    print(\"is instance\")\n",
    "else:\n",
    "    print(\"not is instance\")"
   ]
  },
  {
   "cell_type": "code",
   "execution_count": 9,
   "metadata": {},
   "outputs": [
    {
     "name": "stdout",
     "output_type": "stream",
     "text": [
      "is instance\n"
     ]
    }
   ],
   "source": [
    "if isinstance(b, A):\n",
    "    print(\"is instance\")\n",
    "else:\n",
    "    print(\"not is instance\")"
   ]
  },
  {
   "cell_type": "code",
   "execution_count": 10,
   "metadata": {},
   "outputs": [
    {
     "name": "stdout",
     "output_type": "stream",
     "text": [
      "is subclass\n"
     ]
    }
   ],
   "source": [
    "if issubclass(B, (A, list, tuple)):\n",
    "    print(\"is subclass\")\n",
    "else:\n",
    "    print(\"is not subclass\")"
   ]
  },
  {
   "cell_type": "code",
   "execution_count": 11,
   "metadata": {},
   "outputs": [
    {
     "name": "stdout",
     "output_type": "stream",
     "text": [
      "is subclass\n"
     ]
    }
   ],
   "source": [
    "if issubclass(A, (B, object)):\n",
    "    print(\"is subclass\")\n",
    "else:\n",
    "    print(\"is not subclass\")"
   ]
  },
  {
   "cell_type": "code",
   "execution_count": 13,
   "metadata": {},
   "outputs": [
    {
     "name": "stdout",
     "output_type": "stream",
     "text": [
      "is subclass\n"
     ]
    }
   ],
   "source": [
    "if issubclass(A, (object)):\n",
    "    print(\"is subclass\")\n",
    "else:\n",
    "    print(\"is not subclass\")"
   ]
  },
  {
   "cell_type": "code",
   "execution_count": 14,
   "metadata": {},
   "outputs": [
    {
     "name": "stdout",
     "output_type": "stream",
     "text": [
      "is not subclass\n"
     ]
    }
   ],
   "source": [
    "if issubclass(A, B):\n",
    "    print(\"is subclass\")\n",
    "else:\n",
    "    print(\"is not subclass\")"
   ]
  }
 ],
 "metadata": {
  "kernelspec": {
   "display_name": "Python 3.10.9 ('base')",
   "language": "python",
   "name": "python3"
  },
  "language_info": {
   "codemirror_mode": {
    "name": "ipython",
    "version": 3
   },
   "file_extension": ".py",
   "mimetype": "text/x-python",
   "name": "python",
   "nbconvert_exporter": "python",
   "pygments_lexer": "ipython3",
   "version": "3.10.9"
  },
  "orig_nbformat": 4,
  "vscode": {
   "interpreter": {
    "hash": "3ea335dcfc86584f099464548b0ed0058477d8754fe3631a3b3425dfe4c718dc"
   }
  }
 },
 "nbformat": 4,
 "nbformat_minor": 2
}
