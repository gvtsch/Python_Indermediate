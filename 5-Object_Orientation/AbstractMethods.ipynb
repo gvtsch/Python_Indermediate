{
 "cells": [
  {
   "cell_type": "code",
   "execution_count": 1,
   "metadata": {},
   "outputs": [],
   "source": [
    "import abc\n",
    "import math"
   ]
  },
  {
   "cell_type": "code",
   "execution_count": 2,
   "metadata": {},
   "outputs": [],
   "source": [
    "class Base(metaclass=abc.ABCMeta):\n",
    "    @abc.abstractmethod\n",
    "    def m1(self):\n",
    "        return\n",
    "    \n",
    "    @staticmethod\n",
    "    @abc.abstractmethod\n",
    "    def m2(self):\n",
    "        return\n",
    "    \n",
    "    @classmethod\n",
    "    @abc.abstractmethod\n",
    "    def m3(self):\n",
    "        return"
   ]
  },
  {
   "cell_type": "code",
   "execution_count": 9,
   "metadata": {},
   "outputs": [
    {
     "ename": "TypeError",
     "evalue": "Can't instantiate abstract class Base with abstract methods m1, m2, m3",
     "output_type": "error",
     "traceback": [
      "\u001b[1;31m---------------------------------------------------------------------------\u001b[0m",
      "\u001b[1;31mTypeError\u001b[0m                                 Traceback (most recent call last)",
      "Cell \u001b[1;32mIn[9], line 1\u001b[0m\n\u001b[1;32m----> 1\u001b[0m b \u001b[39m=\u001b[39m Base()\n",
      "\u001b[1;31mTypeError\u001b[0m: Can't instantiate abstract class Base with abstract methods m1, m2, m3"
     ]
    }
   ],
   "source": [
    "b = Base()"
   ]
  },
  {
   "cell_type": "markdown",
   "metadata": {},
   "source": [
    "Whenever there is a class with an abstractmethod, you have to implement this one and every other abstractmethod."
   ]
  },
  {
   "cell_type": "code",
   "execution_count": 5,
   "metadata": {},
   "outputs": [],
   "source": [
    "class MyClass1(Base):\n",
    "    def m1(self):\n",
    "        return \"m1\"\n",
    "    \n",
    "    def m2(self):\n",
    "        return \"m2\""
   ]
  },
  {
   "cell_type": "code",
   "execution_count": 6,
   "metadata": {},
   "outputs": [],
   "source": [
    "class MyClass2(Base):\n",
    "    def m1(self):\n",
    "        return 1\n",
    "    \n",
    "    def m2(self):\n",
    "        return 2\n",
    "    \n",
    "    def m3(self):\n",
    "        return 3"
   ]
  },
  {
   "cell_type": "code",
   "execution_count": 7,
   "metadata": {},
   "outputs": [
    {
     "ename": "TypeError",
     "evalue": "Can't instantiate abstract class MyClass1 with abstract method m3",
     "output_type": "error",
     "traceback": [
      "\u001b[1;31m---------------------------------------------------------------------------\u001b[0m",
      "\u001b[1;31mTypeError\u001b[0m                                 Traceback (most recent call last)",
      "Cell \u001b[1;32mIn[7], line 1\u001b[0m\n\u001b[1;32m----> 1\u001b[0m var \u001b[39m=\u001b[39m MyClass1()\n\u001b[0;32m      2\u001b[0m var\u001b[39m.\u001b[39mm1()\n",
      "\u001b[1;31mTypeError\u001b[0m: Can't instantiate abstract class MyClass1 with abstract method m3"
     ]
    }
   ],
   "source": [
    "var = MyClass1()\n",
    "var.m1()"
   ]
  },
  {
   "cell_type": "code",
   "execution_count": 10,
   "metadata": {},
   "outputs": [
    {
     "data": {
      "text/plain": [
       "1"
      ]
     },
     "execution_count": 10,
     "metadata": {},
     "output_type": "execute_result"
    }
   ],
   "source": [
    "var2 = MyClass2()\n",
    "var2.m1()"
   ]
  },
  {
   "cell_type": "code",
   "execution_count": 11,
   "metadata": {},
   "outputs": [],
   "source": [
    "class Shape(metaclass=abc.ABCMeta):\n",
    "    def print_math_operations(self):\n",
    "        print(\"Math ops are: compute_perimeter, compute_area\")\n",
    "        \n",
    "    @abc.abstractmethod\n",
    "    def print_properties(self):\n",
    "        return\n",
    "    \n",
    "    @abc.abstractmethod\n",
    "    def compute_area(self):\n",
    "        return"
   ]
  },
  {
   "cell_type": "code",
   "execution_count": 12,
   "metadata": {},
   "outputs": [],
   "source": [
    "class Circle(Shape):\n",
    "    def __init__(self, radius):\n",
    "        self.radius = radius\n",
    "        \n",
    "    def print_properties(self):\n",
    "        print(f\"Circle with radius {self.radius}\")\n",
    "        \n",
    "    def compute_perimeter(self):\n",
    "        return 2 * math.pi * self.radius\n",
    "        \n",
    "    def compute_area(self):\n",
    "        return math.pi**2 * self.radius"
   ]
  },
  {
   "cell_type": "code",
   "execution_count": 13,
   "metadata": {},
   "outputs": [],
   "source": [
    "class Square(Shape):\n",
    "    def __init__(self, a):\n",
    "        self.a = a\n",
    "        \n",
    "    def print_properties(self):\n",
    "        print(f\"Square with length {self.a}\")\n",
    "        \n",
    "    def compute_perimeter(self):\n",
    "        return 4 * self.a\n",
    "        \n",
    "    def compute_area(self):\n",
    "        return self.a ** 2"
   ]
  },
  {
   "cell_type": "code",
   "execution_count": 14,
   "metadata": {},
   "outputs": [
    {
     "name": "stdout",
     "output_type": "stream",
     "text": [
      "19.739208802178716\n",
      "Math ops are: compute_perimeter, compute_area\n"
     ]
    }
   ],
   "source": [
    "c = Circle(2)\n",
    "print(c.compute_area())\n",
    "c.print_math_operations()"
   ]
  },
  {
   "cell_type": "code",
   "execution_count": 15,
   "metadata": {},
   "outputs": [
    {
     "name": "stdout",
     "output_type": "stream",
     "text": [
      "4\n",
      "Math ops are: compute_perimeter, compute_area\n"
     ]
    }
   ],
   "source": [
    "s = Square(2)\n",
    "print(s.compute_area())\n",
    "s.print_math_operations()"
   ]
  }
 ],
 "metadata": {
  "kernelspec": {
   "display_name": "Python 3.10.9 ('base')",
   "language": "python",
   "name": "python3"
  },
  "language_info": {
   "codemirror_mode": {
    "name": "ipython",
    "version": 3
   },
   "file_extension": ".py",
   "mimetype": "text/x-python",
   "name": "python",
   "nbconvert_exporter": "python",
   "pygments_lexer": "ipython3",
   "version": "3.10.9"
  },
  "orig_nbformat": 4,
  "vscode": {
   "interpreter": {
    "hash": "3ea335dcfc86584f099464548b0ed0058477d8754fe3631a3b3425dfe4c718dc"
   }
  }
 },
 "nbformat": 4,
 "nbformat_minor": 2
}
