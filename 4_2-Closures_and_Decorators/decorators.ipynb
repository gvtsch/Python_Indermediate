{
 "cells": [
  {
   "cell_type": "code",
   "execution_count": 1,
   "metadata": {},
   "outputs": [],
   "source": [
    "import time\n",
    "from functools import wraps\n",
    "from typing import Any, Callable, Optional"
   ]
  },
  {
   "cell_type": "markdown",
   "metadata": {},
   "source": [
    "# Closure\n",
    "A closure is an inner function that has access to variables in the local scope of the outer function."
   ]
  },
  {
   "cell_type": "code",
   "execution_count": 2,
   "metadata": {},
   "outputs": [],
   "source": [
    "def outer_fn(message: str) -> Any:\n",
    "    outer_message = \"Outer: \" + message\n",
    "    current_time = time.time()\n",
    "\n",
    "    def inner_fn() -> None:\n",
    "        print(\"Inner: '\" + outer_message + \"'\")\n",
    "        print(\"Current time: \", current_time)\n",
    "    return inner_fn()"
   ]
  },
  {
   "cell_type": "code",
   "execution_count": 5,
   "metadata": {},
   "outputs": [
    {
     "name": "stdout",
     "output_type": "stream",
     "text": [
      "Inner: 'Outer: Hello world!'\n",
      "Current time:  1697513057.8758655\n"
     ]
    }
   ],
   "source": [
    "outer_fn(\"Hello world!\")"
   ]
  },
  {
   "cell_type": "markdown",
   "metadata": {},
   "source": [
    "# Decorators\n",
    "* wraps a function by another function\n",
    "* takes a function as an argument, returns a closure\n",
    "* the closure runs the previous passed in the function with the *args and **kwargs arguments"
   ]
  },
  {
   "cell_type": "markdown",
   "metadata": {},
   "source": [
    "Decorators in Python sind nützlich, um Funktionen oder Methoden zu erweitern oder zu modifizieren, ohne ihren Quellcode zu ändern. Sie sind hilfreich für Aufgaben wie Protokollierung, Zugriffskontrolle, Leistungsüberwachung, Authentifizierung, Validierung und vieles mehr. Decorators verwenden das \"@\"-Symbol, um über Funktionen oder Methoden angewendet zu werden und fügen zusätzliche Funktionen hinzu. Damit wird der Code übersichtlicher, wiederverwendbarer und flexibler."
   ]
  },
  {
   "cell_type": "code",
   "execution_count": 6,
   "metadata": {},
   "outputs": [],
   "source": [
    "def outer_fn(fn: Callable):\n",
    "    def inner_fn() -> Any:\n",
    "        fn_result = fn()\n",
    "        return fn_result\n",
    "    return inner_fn"
   ]
  },
  {
   "cell_type": "code",
   "execution_count": 9,
   "metadata": {},
   "outputs": [],
   "source": [
    "def print_hello_world() -> None:\n",
    "    print(\"Hello world.\")"
   ]
  },
  {
   "cell_type": "code",
   "execution_count": 10,
   "metadata": {},
   "outputs": [],
   "source": [
    "decorated_print_hello_world = outer_fn(print_hello_world)"
   ]
  },
  {
   "cell_type": "code",
   "execution_count": 11,
   "metadata": {},
   "outputs": [
    {
     "name": "stdout",
     "output_type": "stream",
     "text": [
      "Hello world.\n"
     ]
    }
   ],
   "source": [
    "decorated_print_hello_world()"
   ]
  },
  {
   "cell_type": "code",
   "execution_count": 12,
   "metadata": {},
   "outputs": [],
   "source": [
    "def decorator(fn: Callable) ->  Callable:\n",
    "    print(\"Start decorator function from: \", fn.__name__)\n",
    "    def wrapper(*args: Any, **kwargs: Any) -> Any:\n",
    "        print(\"Start wrapper function from: \", fn.__name__)\n",
    "        fn_result = fn(*args, **kwargs)\n",
    "        print(\"End wrapper function from: \", fn.__name__)\n",
    "        return fn_result\n",
    "    print(\"End decorator function from: \", fn.__name__)\n",
    "    return wrapper"
   ]
  },
  {
   "cell_type": "code",
   "execution_count": 13,
   "metadata": {},
   "outputs": [
    {
     "name": "stdout",
     "output_type": "stream",
     "text": [
      "Start decorator function from:  print_hello_world\n",
      "End decorator function from:  print_hello_world\n"
     ]
    }
   ],
   "source": [
    "decorated_print_hello_world2 = decorator(print_hello_world)"
   ]
  },
  {
   "cell_type": "code",
   "execution_count": 14,
   "metadata": {},
   "outputs": [
    {
     "name": "stdout",
     "output_type": "stream",
     "text": [
      "Start wrapper function from:  print_hello_world\n",
      "Hello world.\n",
      "End wrapper function from:  print_hello_world\n"
     ]
    }
   ],
   "source": [
    "decorated_print_hello_world2()"
   ]
  },
  {
   "cell_type": "code",
   "execution_count": 15,
   "metadata": {},
   "outputs": [],
   "source": [
    "def print_arguments(a: int, b: int, c: Optional[int] = None):\n",
    "    print(f\"A: {a}, B: {b}, C: {c}\")"
   ]
  },
  {
   "cell_type": "code",
   "execution_count": 16,
   "metadata": {},
   "outputs": [
    {
     "name": "stdout",
     "output_type": "stream",
     "text": [
      "Start decorator function from:  print_arguments\n",
      "End decorator function from:  print_arguments\n"
     ]
    }
   ],
   "source": [
    "decorated_print_arguments = decorator(print_arguments)"
   ]
  },
  {
   "cell_type": "code",
   "execution_count": 17,
   "metadata": {},
   "outputs": [
    {
     "name": "stdout",
     "output_type": "stream",
     "text": [
      "Start wrapper function from:  print_arguments\n",
      "A: 1, B: 2, C: 3\n",
      "End wrapper function from:  print_arguments\n"
     ]
    }
   ],
   "source": [
    "decorated_print_arguments(a = 1, b = 2, c = 3)"
   ]
  },
  {
   "cell_type": "code",
   "execution_count": 18,
   "metadata": {},
   "outputs": [
    {
     "name": "stdout",
     "output_type": "stream",
     "text": [
      "Start decorator function from:  print_arguments2\n",
      "End decorator function from:  print_arguments2\n"
     ]
    }
   ],
   "source": [
    "# @DecoratorFunctionName\n",
    "@decorator\n",
    "def print_arguments2(a: int, b: int, c: Optional[int] = None):\n",
    "    print(f\"A: {a}, B: {b}, C: {c}\")"
   ]
  },
  {
   "cell_type": "code",
   "execution_count": 19,
   "metadata": {},
   "outputs": [
    {
     "name": "stdout",
     "output_type": "stream",
     "text": [
      "Start wrapper function from:  print_arguments2\n",
      "A: 2, B: 3, C: 4\n",
      "End wrapper function from:  print_arguments2\n"
     ]
    }
   ],
   "source": [
    "print_arguments2(a = 2, b = 3, c = 4)"
   ]
  }
 ],
 "metadata": {
  "kernelspec": {
   "display_name": "tf_GPU",
   "language": "python",
   "name": "python3"
  },
  "language_info": {
   "codemirror_mode": {
    "name": "ipython",
    "version": 3
   },
   "file_extension": ".py",
   "mimetype": "text/x-python",
   "name": "python",
   "nbconvert_exporter": "python",
   "pygments_lexer": "ipython3",
   "version": "3.10.9"
  }
 },
 "nbformat": 4,
 "nbformat_minor": 2
}
