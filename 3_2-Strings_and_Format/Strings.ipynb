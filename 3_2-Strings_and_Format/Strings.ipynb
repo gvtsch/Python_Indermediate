{
 "cells": [
  {
   "cell_type": "code",
   "execution_count": 1,
   "metadata": {},
   "outputs": [],
   "source": [
    "def memory_address(var):\n",
    "    return hex(id(var) % 0xFFFFF)\n",
    "\n",
    "def print_string_info(st):\n",
    "    print(f\"String address: {memory_address(st)}\")\n",
    "    for val in st:\n",
    "        print(f\"Val: {memory_address(val)}\")\n",
    "    print(\"\\n\")"
   ]
  },
  {
   "cell_type": "markdown",
   "metadata": {},
   "source": [
    "# Strings"
   ]
  },
  {
   "cell_type": "code",
   "execution_count": 2,
   "metadata": {},
   "outputs": [
    {
     "name": "stdout",
     "output_type": "stream",
     "text": [
      "Christoph\n",
      "String address: 0x58793\n",
      "Val: 0xe87\n",
      "Val: 0x2e47\n",
      "Val: 0x88886\n",
      "Val: 0x75b06\n",
      "Val: 0x74fc6\n",
      "Val: 0xb8f06\n",
      "Val: 0xb9646\n",
      "Val: 0x75686\n",
      "Val: 0x2e47\n",
      "\n",
      "\n"
     ]
    }
   ],
   "source": [
    "my_name = \"Christoph\"\n",
    "\n",
    "print(my_name)\n",
    "print_string_info(my_name)"
   ]
  },
  {
   "cell_type": "code",
   "execution_count": 3,
   "metadata": {},
   "outputs": [
    {
     "name": "stdout",
     "output_type": "stream",
     "text": [
      "Ch\n",
      "String address: 0x54c0e\n",
      "Val: 0xe87\n",
      "Val: 0x2e47\n",
      "\n",
      "\n"
     ]
    }
   ],
   "source": [
    "my_name = my_name[:2]\n",
    "\n",
    "print(my_name)\n",
    "print_string_info(my_name)"
   ]
  },
  {
   "cell_type": "code",
   "execution_count": 4,
   "metadata": {},
   "outputs": [
    {
     "name": "stdout",
     "output_type": "stream",
     "text": [
      "'str' object does not support item assignment\n",
      "Ch\n",
      "String address: 0x54c0e\n",
      "Val: 0xe87\n",
      "Val: 0x2e47\n",
      "\n",
      "\n"
     ]
    }
   ],
   "source": [
    "try:\n",
    "    my_name[0] = \"a\"\n",
    "except TypeError as e:\n",
    "    print(e)\n",
    "\n",
    "print(my_name)\n",
    "print_string_info(my_name)"
   ]
  },
  {
   "cell_type": "code",
   "execution_count": 5,
   "metadata": {},
   "outputs": [
    {
     "name": "stdout",
     "output_type": "stream",
     "text": [
      "ah\n",
      "String address: 0x7b294\n",
      "Val: 0x1cc7\n",
      "Val: 0x2e47\n",
      "\n",
      "\n"
     ]
    }
   ],
   "source": [
    "my_name = \"a\" + my_name[1:]\n",
    "\n",
    "print(my_name)\n",
    "print_string_info(my_name)"
   ]
  }
 ],
 "metadata": {
  "kernelspec": {
   "display_name": "tf_GPU",
   "language": "python",
   "name": "python3"
  },
  "language_info": {
   "codemirror_mode": {
    "name": "ipython",
    "version": 3
   },
   "file_extension": ".py",
   "mimetype": "text/x-python",
   "name": "python",
   "nbconvert_exporter": "python",
   "pygments_lexer": "ipython3",
   "version": "3.10.9"
  }
 },
 "nbformat": 4,
 "nbformat_minor": 2
}
