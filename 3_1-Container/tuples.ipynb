{
 "cells": [
  {
   "cell_type": "code",
   "execution_count": 1,
   "metadata": {},
   "outputs": [],
   "source": [
    "from typing import Any\n",
    "from typing import Tuple"
   ]
  },
  {
   "cell_type": "code",
   "execution_count": 2,
   "metadata": {},
   "outputs": [],
   "source": [
    "def memory_address(var: Any):\n",
    "    return hex(id(var) % 0xFFFF)"
   ]
  },
  {
   "cell_type": "code",
   "execution_count": 3,
   "metadata": {},
   "outputs": [],
   "source": [
    "def print_tuple_info(tpl: Tuple[Any]):\n",
    "    print(f\"Tuple address: {memory_address(tpl)}\")\n",
    "    for val in tpl:\n",
    "        print(f\"Val: {memory_address(val)}\")\n",
    "    print(\"\\n\")"
   ]
  },
  {
   "cell_type": "markdown",
   "metadata": {},
   "source": [
    "# Tuple\n",
    "Tuple is an immutable typeb\n",
    "\n",
    "List is a mutable type"
   ]
  },
  {
   "cell_type": "code",
   "execution_count": 5,
   "metadata": {},
   "outputs": [
    {
     "name": "stdout",
     "output_type": "stream",
     "text": [
      "(10, 20, 30)\n",
      "Tuple address: 0x994d\n",
      "Val: 0xec9d\n",
      "Val: 0xeddd\n",
      "Val: 0xef1d\n",
      "\n",
      "\n"
     ]
    }
   ],
   "source": [
    "my_tuple2 = (10, 20, 30)\n",
    "# This is not a tuple: (10)! But this is: (10,)\n",
    "print(my_tuple2)\n",
    "print_tuple_info(my_tuple2)"
   ]
  },
  {
   "cell_type": "code",
   "execution_count": 6,
   "metadata": {},
   "outputs": [
    {
     "name": "stdout",
     "output_type": "stream",
     "text": [
      "'tuple' object does not support item assignment\n"
     ]
    }
   ],
   "source": [
    "try:\n",
    "    my_tuple2[0] = 10\n",
    "except TypeError as e:\n",
    "    print(e)"
   ]
  },
  {
   "cell_type": "code",
   "execution_count": 7,
   "metadata": {},
   "outputs": [
    {
     "name": "stdout",
     "output_type": "stream",
     "text": [
      "(10, 20, [1])\n",
      "Tuple address: 0x3ace\n",
      "Val: 0xec9d\n",
      "Val: 0xeddd\n",
      "Val: 0x9308\n",
      "\n",
      "\n"
     ]
    }
   ],
   "source": [
    "my_list = [1]\n",
    "my_tuple3 = (10, 20, my_list)\n",
    "\n",
    "print(my_tuple3)\n",
    "print_tuple_info(my_tuple3)"
   ]
  },
  {
   "cell_type": "code",
   "execution_count": 9,
   "metadata": {},
   "outputs": [
    {
     "name": "stdout",
     "output_type": "stream",
     "text": [
      "(10, 20, [1, 2, 2])\n",
      "Tuple address: 0x3ace\n",
      "Val: 0xec9d\n",
      "Val: 0xeddd\n",
      "Val: 0x9308\n",
      "\n",
      "\n"
     ]
    }
   ],
   "source": [
    "my_tuple3[2].append(2)\n",
    "\n",
    "print(my_tuple3)\n",
    "print_tuple_info(my_tuple3)"
   ]
  },
  {
   "cell_type": "markdown",
   "metadata": {},
   "source": [
    "# Tuple Packing & Unpacking"
   ]
  },
  {
   "cell_type": "code",
   "execution_count": 10,
   "metadata": {},
   "outputs": [],
   "source": [
    "def function():\n",
    "    return (10, 42.0, True, None)"
   ]
  },
  {
   "cell_type": "code",
   "execution_count": 11,
   "metadata": {},
   "outputs": [
    {
     "name": "stdout",
     "output_type": "stream",
     "text": [
      "(10, 42.0, True, None)\n"
     ]
    }
   ],
   "source": [
    "tpl = function()\n",
    "print(tpl)"
   ]
  },
  {
   "cell_type": "code",
   "execution_count": 15,
   "metadata": {},
   "outputs": [],
   "source": [
    "my_int, my_float, my_bool, my_none = tpl # unpack"
   ]
  },
  {
   "cell_type": "code",
   "execution_count": 13,
   "metadata": {},
   "outputs": [],
   "source": [
    "my_int2, _, my_bool2, _ = tpl"
   ]
  },
  {
   "cell_type": "code",
   "execution_count": 14,
   "metadata": {},
   "outputs": [],
   "source": [
    "my_int3, my_float, *packed_tpl = tpl"
   ]
  },
  {
   "cell_type": "code",
   "execution_count": 16,
   "metadata": {},
   "outputs": [
    {
     "name": "stdout",
     "output_type": "stream",
     "text": [
      "[True, None]\n"
     ]
    }
   ],
   "source": [
    "my_int3, my_float3, *packed_tpl = tpl\n",
    "print(packed_tpl)"
   ]
  }
 ],
 "metadata": {
  "kernelspec": {
   "display_name": "tf_GPU",
   "language": "python",
   "name": "python3"
  },
  "language_info": {
   "codemirror_mode": {
    "name": "ipython",
    "version": 3
   },
   "file_extension": ".py",
   "mimetype": "text/x-python",
   "name": "python",
   "nbconvert_exporter": "python",
   "pygments_lexer": "ipython3",
   "version": "3.10.9"
  }
 },
 "nbformat": 4,
 "nbformat_minor": 2
}
