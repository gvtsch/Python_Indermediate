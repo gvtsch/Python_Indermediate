{
 "cells": [
  {
   "cell_type": "code",
   "execution_count": 1,
   "metadata": {},
   "outputs": [],
   "source": [
    "from typing import Any\n",
    "from typing import Dict"
   ]
  },
  {
   "cell_type": "code",
   "execution_count": 2,
   "metadata": {},
   "outputs": [],
   "source": [
    "def memory_address(var: Any):\n",
    "    return hex(id(var) % 0xFFFF)"
   ]
  },
  {
   "cell_type": "code",
   "execution_count": 3,
   "metadata": {},
   "outputs": [],
   "source": [
    "def print_dict_info(dct: Dict[str, Any]):\n",
    "    print(f\"Dict address: {memory_address(dct)}\")\n",
    "    for key in dct:\n",
    "        print(f\"Dict[{key}]: {memory_address(dct[key])}\")\n",
    "    print(\"\\n\")"
   ]
  },
  {
   "cell_type": "markdown",
   "metadata": {},
   "source": [
    "# Dicts\n",
    "Types for the keys: bool, int, float, str, tuple, None (immutable types) \\\n",
    "Types for the values: any\n",
    "\n",
    "For each item, the dictionary calculates a hash of the key based on its content.\n",
    "If the value changes, the hash will change, too.\n",
    "For immutable objects that's not a problem - their contetn can't change - but mutable objects could."
   ]
  },
  {
   "cell_type": "code",
   "execution_count": 5,
   "metadata": {},
   "outputs": [
    {
     "name": "stdout",
     "output_type": "stream",
     "text": [
      "{True: 'test', 10: [1, 2, 3], None: 10.5, 10.1: {'k', 'v'}, 'jan': {'test'}, (10, 20): (5, 4)}\n"
     ]
    }
   ],
   "source": [
    "my_dict1 = {\n",
    "    True: \"test\",\n",
    "    10: [1, 2, 3],\n",
    "    None: 10.5, \n",
    "    10.1: {\"k\", \"v\"},\n",
    "    \"jan\": {\"test\"},\n",
    "    (10, 20): (5, 4)\n",
    "}\n",
    "print(my_dict1)"
   ]
  },
  {
   "cell_type": "markdown",
   "metadata": {},
   "source": [
    "# Dict Comp"
   ]
  },
  {
   "cell_type": "code",
   "execution_count": 6,
   "metadata": {},
   "outputs": [
    {
     "ename": "NameError",
     "evalue": "name 'my_Dict1' is not defined",
     "output_type": "error",
     "traceback": [
      "\u001b[1;31m---------------------------------------------------------------------------\u001b[0m",
      "\u001b[1;31mNameError\u001b[0m                                 Traceback (most recent call last)",
      "Cell \u001b[1;32mIn[6], line 5\u001b[0m\n\u001b[0;32m      2\u001b[0m \u001b[39mfor\u001b[39;00m i \u001b[39min\u001b[39;00m \u001b[39mrange\u001b[39m(\u001b[39m5\u001b[39m):\n\u001b[0;32m      3\u001b[0m     my_dict1[i] \u001b[39m=\u001b[39m \u001b[39m1\u001b[39m\u001b[39m*\u001b[39m\u001b[39m*\u001b[39m\u001b[39m2\u001b[39m\n\u001b[1;32m----> 5\u001b[0m \u001b[39mprint\u001b[39m(my_Dict1)\n",
      "\u001b[1;31mNameError\u001b[0m: name 'my_Dict1' is not defined"
     ]
    }
   ],
   "source": [
    "my_dict1 = {}\n",
    "for i in range(5):\n",
    "    my_dict1[i] = 1**2\n",
    "\n",
    "print(my_dict1)"
   ]
  },
  {
   "cell_type": "code",
   "execution_count": null,
   "metadata": {},
   "outputs": [],
   "source": []
  }
 ],
 "metadata": {
  "kernelspec": {
   "display_name": "tf_GPU",
   "language": "python",
   "name": "python3"
  },
  "language_info": {
   "codemirror_mode": {
    "name": "ipython",
    "version": 3
   },
   "file_extension": ".py",
   "mimetype": "text/x-python",
   "name": "python",
   "nbconvert_exporter": "python",
   "pygments_lexer": "ipython3",
   "version": "3.10.9"
  },
  "orig_nbformat": 4
 },
 "nbformat": 4,
 "nbformat_minor": 2
}
