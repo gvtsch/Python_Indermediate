{
 "cells": [
  {
   "cell_type": "code",
   "execution_count": 5,
   "metadata": {},
   "outputs": [],
   "source": [
    "from typing import Any\n",
    "from typing import List\n",
    "from typing import Union"
   ]
  },
  {
   "cell_type": "code",
   "execution_count": 6,
   "metadata": {},
   "outputs": [],
   "source": [
    "def memory_address(var: Any):\n",
    "    return hex(id(var) % 0xFFFF)"
   ]
  },
  {
   "cell_type": "code",
   "execution_count": 7,
   "metadata": {},
   "outputs": [],
   "source": [
    "def print_list_info(lst: Union[List[Any], List[List[Any]]]):\n",
    "    print(f\"List address: {memory_address(lst)}\")\n",
    "    if len(lst) == 0:\n",
    "        return\n",
    "    if not isinstance(lst[0], list):\n",
    "        return\n",
    "    for i in range(len(lst)):\n",
    "        print(f\"List[{i}]: {memory_address(lst[i])}\")\n",
    "        if isinstance(lst[i], list):\n",
    "            for j in range(len(lst[i])):\n",
    "                print(f\"List[{i}, {j}]: {memory_address(lst[i][j])}\")\n",
    "    print(\"\\n\")"
   ]
  },
  {
   "cell_type": "markdown",
   "metadata": {},
   "source": [
    "# Lists"
   ]
  },
  {
   "cell_type": "code",
   "execution_count": 8,
   "metadata": {},
   "outputs": [
    {
     "name": "stdout",
     "output_type": "stream",
     "text": [
      "[1, 2, 3]\n",
      "List address: 0x35d5\n"
     ]
    }
   ],
   "source": [
    "my_list = [1, 2, 3]\n",
    "print(my_list)\n",
    "print_list_info(my_list)"
   ]
  },
  {
   "cell_type": "code",
   "execution_count": 9,
   "metadata": {},
   "outputs": [
    {
     "name": "stdout",
     "output_type": "stream",
     "text": [
      "[[1, 2], [3]]\n",
      "List address: 0x532d\n",
      "List[0]: 0x3c15\n",
      "List[0, 0]: 0xc066\n",
      "List[0, 1]: 0xc086\n",
      "List[1]: 0x81c2\n",
      "List[1, 0]: 0xc0a6\n",
      "\n",
      "\n"
     ]
    }
   ],
   "source": [
    "my_list2 = [[1, 2], [3]]\n",
    "print(my_list2)\n",
    "print_list_info(my_list2)"
   ]
  },
  {
   "cell_type": "code",
   "execution_count": 10,
   "metadata": {},
   "outputs": [
    {
     "name": "stdout",
     "output_type": "stream",
     "text": [
      "[[1, 2], [3, 6]]\n",
      "List address: 0x532d\n",
      "List[0]: 0x3c15\n",
      "List[0, 0]: 0xc066\n",
      "List[0, 1]: 0xc086\n",
      "List[1]: 0x3312\n",
      "List[1, 0]: 0xc0a6\n",
      "List[1, 1]: 0xc106\n",
      "\n",
      "\n"
     ]
    }
   ],
   "source": [
    "my_list2[1] = [3, 6]\n",
    "print(my_list2)\n",
    "print_list_info(my_list2)"
   ]
  },
  {
   "cell_type": "markdown",
   "metadata": {},
   "source": [
    "# List Comprehensions"
   ]
  },
  {
   "cell_type": "code",
   "execution_count": 11,
   "metadata": {},
   "outputs": [
    {
     "name": "stdout",
     "output_type": "stream",
     "text": [
      "[0, 1, 2, 3, 4]\n"
     ]
    }
   ],
   "source": [
    "list1 = []\n",
    "\n",
    "for i in range(5):\n",
    "    list1.append(i)\n",
    "\n",
    "print(list1)"
   ]
  },
  {
   "cell_type": "code",
   "execution_count": 13,
   "metadata": {},
   "outputs": [
    {
     "name": "stdout",
     "output_type": "stream",
     "text": [
      "[0, 1, 2, 3, 4]\n"
     ]
    }
   ],
   "source": [
    "list2 = [i for i in range(5)]\n",
    "print(list2)"
   ]
  },
  {
   "cell_type": "code",
   "execution_count": 14,
   "metadata": {},
   "outputs": [
    {
     "name": "stdout",
     "output_type": "stream",
     "text": [
      "[0, 1, 2]\n"
     ]
    }
   ],
   "source": [
    "my_list3 = [i for i in range(5) if (i < 3)]\n",
    "print(my_list3)"
   ]
  },
  {
   "cell_type": "code",
   "execution_count": 15,
   "metadata": {},
   "outputs": [
    {
     "name": "stdout",
     "output_type": "stream",
     "text": [
      "[-1, -1, -1, 3, 4]\n"
     ]
    }
   ],
   "source": [
    "my_list4 = [i if i > 2 else -1 for i in range(5)]\n",
    "print(my_list4)"
   ]
  }
 ],
 "metadata": {
  "kernelspec": {
   "display_name": "tf_GPU",
   "language": "python",
   "name": "python3"
  },
  "language_info": {
   "codemirror_mode": {
    "name": "ipython",
    "version": 3
   },
   "file_extension": ".py",
   "mimetype": "text/x-python",
   "name": "python",
   "nbconvert_exporter": "python",
   "pygments_lexer": "ipython3",
   "version": "3.10.9"
  },
  "orig_nbformat": 4
 },
 "nbformat": 4,
 "nbformat_minor": 2
}
