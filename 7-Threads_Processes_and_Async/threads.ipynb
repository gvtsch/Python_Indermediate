{
 "cells": [
  {
   "cell_type": "code",
   "execution_count": 1,
   "metadata": {},
   "outputs": [],
   "source": [
    "import time\n",
    "from threading import Thread"
   ]
  },
  {
   "cell_type": "markdown",
   "metadata": {},
   "source": [
    "# Threads"
   ]
  },
  {
   "cell_type": "code",
   "execution_count": 2,
   "metadata": {},
   "outputs": [],
   "source": [
    "def worker(sleep_time: float) -> None:\n",
    "    print(\"Start worker\")\n",
    "    time.sleep(sleep_time)\n",
    "    print(\"End worker\")"
   ]
  },
  {
   "cell_type": "code",
   "execution_count": 3,
   "metadata": {},
   "outputs": [],
   "source": [
    "t1 = Thread(target=worker, name=\"t1\", args=(2.0,))"
   ]
  },
  {
   "cell_type": "code",
   "execution_count": 4,
   "metadata": {},
   "outputs": [
    {
     "name": "stdout",
     "output_type": "stream",
     "text": [
      "Ident: None\n",
      "Alive: False\n",
      "Name: t1\n"
     ]
    }
   ],
   "source": [
    "print(f\"Ident: {t1.ident}\")\n",
    "print(f\"Alive: {t1.is_alive()}\")\n",
    "print(f\"Name: {t1.name}\")"
   ]
  },
  {
   "cell_type": "code",
   "execution_count": 5,
   "metadata": {},
   "outputs": [
    {
     "name": "stdout",
     "output_type": "stream",
     "text": [
      "Start workerIdent: 12648\n",
      "Alive: True\n",
      "Name: t1\n",
      "\n",
      "End worker\n"
     ]
    }
   ],
   "source": [
    "t1.start()\n",
    "\n",
    "print(f\"Ident: {t1.ident}\")\n",
    "print(f\"Alive: {t1.is_alive()}\")\n",
    "print(f\"Name: {t1.name}\")\n",
    "\n",
    "t1.join()"
   ]
  }
 ],
 "metadata": {
  "kernelspec": {
   "display_name": "tf_GPU",
   "language": "python",
   "name": "python3"
  },
  "language_info": {
   "codemirror_mode": {
    "name": "ipython",
    "version": 3
   },
   "file_extension": ".py",
   "mimetype": "text/x-python",
   "name": "python",
   "nbconvert_exporter": "python",
   "pygments_lexer": "ipython3",
   "version": "3.10.9"
  }
 },
 "nbformat": 4,
 "nbformat_minor": 2
}
